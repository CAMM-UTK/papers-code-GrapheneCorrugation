{
 "cells": [
  {
   "cell_type": "code",
   "execution_count": null,
   "id": "fa77713e",
   "metadata": {},
   "outputs": [],
   "source": [
    "import erroranalysis as ea\n",
    "import numpy as np\n",
    "from scipy.constants import k as k_b\n",
    "import matplotlib.pyplot as plt\n",
    "import matplotlib.ticker as ticker\n",
    "import os,sys,glob\n",
    "import numpy as np\n",
    "import pimcscripts.pimchelp as pimchelp\n",
    "import pimcscripts.MCstat as MCstat\n",
    "from collections import defaultdict\n",
    "import argparse \n",
    "import subprocess\n",
    "import pickle\n",
    "\n",
    "#from joblib import Parallel, delayed\n",
    "import multiprocessing\n",
    "directory_paths = {\n",
    "    r'$N_g = 0$': '../data/QMC/qmc_OUTPUT/NONovember12/',\n",
    "    r'$N_g = 1$': '../data/QMC/qmc_OUTPUT/FirstNovember12/',\n",
    "    r'$N_g = 2$': '../data/QMC/qmc_OUTPUT/SECONDNovember12/',\n",
    "    r'$N_g = 3$':'../data/QMC/qmc_OUTPUT/THIRDNovember12/',\n",
    "    r'$N_g = \\infty$':'../data/QMC/qmc_OUTPUT/FULLNovember12/'\n",
    "}\n",
    "for key, value in directory_paths.items():\n",
    "    print(f\"Key: {key}, Value: {value}\")"
   ]
  },
  {
   "cell_type": "code",
   "execution_count": null,
   "id": "d6250345",
   "metadata": {},
   "outputs": [],
   "source": [
    "#%run ~/.local/bin/merge.py -u -100 /lustre/isaac/scratch/gerwin2/local/pimc/build/OUTPUT/FULLSeptember3/\n",
    "#directory_paths[r'$N_g = 0$']=value+'MERGED/'\n",
    "print(directory_paths[r'$N_g = 0$'])"
   ]
  },
  {
   "cell_type": "code",
   "execution_count": null,
   "id": "85139b23",
   "metadata": {},
   "outputs": [],
   "source": [
    "def compressibility(N,N2,volume=1.0,k_B=1.0,T=1.0):\n",
    "    pf = 1/(volume*k_B*T)\n",
    "    return pf*(((N2 - (N**2)))/1)\n",
    "def heatcapacity(E,E2,k_B=1.0,T=1.0):\n",
    "    pf = 1/(k_B*(T**2))\n",
    "    return pf*(((E2 - (E**2))))"
   ]
  },
  {
   "cell_type": "code",
   "execution_count": null,
   "id": "b1cf46b8",
   "metadata": {},
   "outputs": [],
   "source": [
    "MERGED_files = True\n",
    "if MERGED_files == False:\n",
    "    folder_name = \"MERGED\"\n",
    "    for key, value in directory_paths.items():\n",
    "        directory = value\n",
    "        if key == r'$N_g = 0$' or key == r'$N_g = \\infty$':\n",
    "            for i in range(-125, -14):\n",
    "                %run ~/.local/bin/merge.py -u {i} {directory}\n",
    "            #directory_paths[key]=value+'MERGED/'\n",
    "    for key, value in directory_paths.items():\n",
    "        directory = value\n",
    "        if key == r'$N_g = 0$' or key == r'$N_g = \\infty$':\n",
    "            directory_paths[key]=value+'MERGED/'"
   ]
  },
  {
   "cell_type": "code",
   "execution_count": null,
   "id": "aefd24ac",
   "metadata": {},
   "outputs": [],
   "source": [
    "for key, value in directory_paths.items():\n",
    "    print(f\"Key: {key}, Value: {value}\")"
   ]
  },
  {
   "cell_type": "code",
   "execution_count": null,
   "id": "e8ff9eee",
   "metadata": {},
   "outputs": [],
   "source": [
    "data={}\n",
    "Analysis = False\n",
    "pickle_file_path = '../data/data.pkl'\n",
    "\n",
    "if Analysis == True:\n",
    "    all_file_names = os.listdir('../data/QMC/NONovember12/MERGED/')\n",
    "    gce_estimator_files = [f for f in all_file_names if f.startswith('gce-estimator-')]\n",
    "    num = len(gce_estimator_files)-3\n",
    "    box_volume = 14.757072880486835*17.04*10#\\AA^3\n",
    "    volume = box_volume\n",
    "    temperature = 1 #K\n",
    "    skip = 500\n",
    "    for key, value in directory_paths.items():\n",
    "        all_file_names = os.listdir(value)\n",
    "        gce_estimator_files = [f for f in all_file_names if f.startswith('gce-estimator-')]\n",
    "        gce_estimator_files = pimchelp.sortFileNames(gce_estimator_files)\n",
    "        data[key] ={'u':np.zeros([num],float),'aveN':np.zeros([num],float),'errN':np.zeros([num],float),'aveKappa':np.zeros([num],float),'errKappa':np.zeros([num],float),'aveC':np.zeros([num],float),'errC':np.zeros([num],float)}\n",
    "        for i in range(num):\n",
    "            j=i+3\n",
    "            headers = pimchelp.getHeadersFromFile(value+'/'+gce_estimator_files[j])\n",
    "            param = pimchelp.getFileNameParameters(gce_estimator_files[j])\n",
    "            chem = float(param[4])\n",
    "            estData = np.loadtxt(value+'/'+gce_estimator_files[j],ndmin=2)\n",
    "            N = estData[:,headers.index('N')]\n",
    "            E = estData[:,headers.index('E')]\n",
    "            boot = ea.bootstrap(N)\n",
    "            data[key]['u'][i] = chem\n",
    "            data[key]['aveN'][i] = boot[0]\n",
    "            data[key]['errN'][i] = boot[1]\n",
    "            κ_avg, κ_err = ea.bootstrap_on_function(compressibility,N[skip:],N[skip:]**2,volume=volume,k_B=1,T=temperature)\n",
    "            data[key]['aveKappa'][i] = κ_avg\n",
    "            data[key]['errKappa'][i] = κ_err\n",
    "            C_avg, C_err = ea.bootstrap_on_function(heatcapacity,E,E**2,k_B=1,T=temperature)\n",
    "            data[key]['aveC'][i] = C_avg\n",
    "            data[key]['errC'][i] = C_err\n",
    "            with open(pickle_file_path, 'wb') as file:\n",
    "                pickle.dump(data, file)\n",
    "with open(pickle_file_path, 'rb') as file:\n",
    "    data = pickle.load(file)"
   ]
  },
  {
   "cell_type": "code",
   "execution_count": null,
   "id": "86fd731e",
   "metadata": {},
   "outputs": [],
   "source": [
    "print(data['$N_g = 0$']['u'][:])\n",
    "print(data['$N_g = 0$']['aveN'][70:])"
   ]
  },
  {
   "cell_type": "code",
   "execution_count": null,
   "id": "e7036665",
   "metadata": {},
   "outputs": [],
   "source": [
    "#plt.rcParams.update(plt.rcParamsDefault)\n",
    "plt.errorbar(data[r'$N_g = \\infty$']['u'],data[ r'$N_g = \\infty$']['aveN'],yerr=data[ r'$N_g = \\infty$']['errN'],color='blue',label=r'$N_g = \\infty$')\n",
    "#plt.errorbar(data[r'$N_g = 1$']['u'],data[ r'$N_g = 1$']['aveN'],yerr=data[ r'$N_g = 1$']['errN'],color='black',label=r'$N_g = 3$')\n",
    "plt.errorbar(data[ r'$N_g = 0$']['u'],data[ r'$N_g = 0$']['aveN'],yerr=data[ r'$N_g = 0$']['errN'],color='red',label=r'$N_g = 0$')\n",
    "\n",
    "plt.ylabel(r'$N$',fontsize=10)\n",
    "plt.xlabel(r'$\\mu$(K)',fontsize=10)\n",
    "#plt.xlim(-40,-15)\n",
    "#plt.ylim(25,50)\n",
    "plt.legend(loc='upper left')\n",
    "plt.show()"
   ]
  },
  {
   "cell_type": "code",
   "execution_count": null,
   "id": "47478b84",
   "metadata": {},
   "outputs": [],
   "source": [
    "blue_color = (0, 0, 1)      # (R, G, B) = (0, 0, 1) for blue\n",
    "black_color = (0, 0, 0)     # (R, G, B) = (0, 0, 0) for black\n",
    "\n",
    "# Plot with error bars and custom RGB colors\n",
    "plt.errorbar(data[r'$N_g = 0$']['u'], data[r'$N_g = 0$']['aveKappa'], yerr=data[r'$N_g = 0$']['errKappa'], color=blue_color, label=r'$N_g = 0$')\n",
    "plt.errorbar(data[r'$N_g = \\infty$']['u'], data[r'$N_g = \\infty$']['aveKappa'], yerr=data[r'$N_g = \\infty$']['errKappa'], color=black_color, label=r'$N_g = \\infty$')\n",
    "#plt.errorbar(data[ r'$N_g = 3$']['u'],data[ r'$N_g = 3$']['aveKappa'],yerr=data[ r'$N_g = 3$']['errKappa'],color='green')\n",
    "#plt.errorbar(data[ r'$N_g = 2$']['u'],data[ r'$N_g = 2$']['aveKappa'],yerr=data[ r'$N_g = 2$']['errKappa'],color='black')\n",
    "#plt.errorbar(data[ r'$N_g = 1$']['u'],data[ r'$N_g = 1$']['aveKappa'],yerr=data[ r'$N_g = 1$']['errKappa'],color='orange')\n",
    "#plt.ylim(0,2e-6)\n",
    "#plt.ylim(0,2.5e-6)\n",
    "plt.xlim(-120,-30)\n",
    "#plt.yscale('log')\n",
    "plt.ylim(0,.001)\n",
    "plt.ylabel(r'Compressibility $\\kappa$ $(K^{-1}Å^{-3})$',fontsize=12)\n",
    "plt.xlabel(r'$\\mu$ (K)',fontsize=12)\n",
    "plt.legend(loc='upper left')\n",
    "#plt.savefig('../figures/Fig5.pdf', format='pdf')\n",
    "plt.show()"
   ]
  },
  {
   "cell_type": "code",
   "execution_count": null,
   "id": "2f2a2f04",
   "metadata": {
    "scrolled": false
   },
   "outputs": [],
   "source": [
    "#plt.rcParams.update(plt.rcParamsDefault)\n",
    "plt.errorbar(data[r'$N_g = \\infty$']['u'],data[ r'$N_g = \\infty$']['aveC'],yerr=data[ r'$N_g = \\infty$']['aveC'],color='blue',label=r'$N_g = \\infty$')\n",
    "#plt.errorbar(data[ r'$N_g = 3$']['u'],data[ r'$N_g = 3$']['aveC'],yerr=data[ r'$N_g = 3$']['aveC'],color='green')\n",
    "#plt.errorbar(data[ r'$N_g = 2$']['u'],data[ r'$N_g = 2$']['aveC'],yerr=data[ r'$N_g = 2$']['aveC'],color='black')\n",
    "#plt.errorbar(data[ r'$N_g = 1$']['u'],data[ r'$N_g = 1$']['aveC'],yerr=data[ r'$N_g = 1$']['aveC'],color='orange')\n",
    "\n",
    "plt.errorbar(data[ r'$N_g = 0$']['u'],data[ r'$N_g = 0$']['aveC'],yerr=data[ r'$N_g = 0$']['aveC'],color='red',label=r'$N_g = 0$')\n",
    "plt.ylim(0,5e4)\n",
    "plt.xlim(-120,-15)\n",
    "plt.ylabel(r'K/J (Joules/K)',fontsize=12)\n",
    "plt.xlabel(r'$\\mu$(K)',fontsize=12)\n",
    "plt.legend(loc='upper right')\n",
    "plt.savefig('../figures/Fig8.eps', format='eps')\n",
    "\n",
    "plt.show()"
   ]
  },
  {
   "cell_type": "code",
   "execution_count": null,
   "id": "c358c65c",
   "metadata": {},
   "outputs": [],
   "source": [
    "import matplotlib.pyplot as plt\n",
    "\n",
    "# Your existing data and plotting code...\n",
    "\n",
    "# Define RGB values for blue and black\n",
    "blue_color = (0, 0, 1)      # (R, G, B) = (0, 0, 1) for blue\n",
    "black_color = (0, 0, 0)     # (R, G, B) = (0, 0, 0) for black\n",
    "\n",
    "# Create the main plot\n",
    "plt.figure(figsize=(10, 6))\n",
    "\n",
    "# Plot with error bars and custom RGB colors\n",
    "plt.errorbar(data[r'$N_g = 0$']['u'], data[r'$N_g = 0$']['aveKappa'], yerr=data[r'$N_g = 0$']['errKappa'], color=blue_color, label=r'$N_g = 0$')\n",
    "plt.errorbar(data[r'$N_g = \\infty$']['u'], data[r'$N_g = \\infty$']['aveKappa'], yerr=data[r'$N_g = \\infty$']['errKappa'], color=black_color, label=r'$N_g = \\infty$')\n",
    "plt.xlim(-120, -15)\n",
    "#plt.ylim(0, 0.001)\n",
    "plt.ylabel(r'Compressibility $\\kappa$ $(K^{-1}Å^{-3})$', fontsize=12)\n",
    "plt.xlabel(r'$\\mu$ (K)', fontsize=12)\n",
    "plt.legend(loc='upper left')\n",
    "\n",
    "# Create the inset axes in the top right corner\n",
    "axins = plt.axes([0.35, 0.45, 0.3, 0.3])  # (left, bottom, width, height)\n",
    "\n",
    "# Plot the data in the inset\n",
    "axins.errorbar(data[r'$N_g = 0$']['u'], data[r'$N_g = 0$']['aveKappa'], yerr=data[r'$N_g = 0$']['errKappa'], color=blue_color, label=r'$N_g = 0$')\n",
    "axins.errorbar(data[r'$N_g = \\infty$']['u'], data[r'$N_g = \\infty$']['aveKappa'], yerr=data[r'$N_g = \\infty$']['errKappa'], color=black_color, label=r'$N_g = \\infty$')\n",
    "axins.set_xlim(-120, -30)\n",
    "axins.set_ylim(0, 0.001)\n",
    "\n",
    "# Customize the inset appearance\n",
    "axins.set_xlabel(r'$\\mu$ (K)')\n",
    "axins.set_ylabel(r'Compressibility $\\kappa$ $(K^{-1}Å^{-3})$')\n",
    "plt.savefig('../figures/Fig5.svg', format='svg')\n",
    "plt.savefig('../figures/Fig5.png', format='png')\n"
   ]
  },
  {
   "cell_type": "code",
   "execution_count": null,
   "id": "12998020",
   "metadata": {},
   "outputs": [],
   "source": []
  }
 ],
 "metadata": {
  "kernelspec": {
   "display_name": "base",
   "language": "python",
   "name": "python3"
  },
  "language_info": {
   "codemirror_mode": {
    "name": "ipython",
    "version": 3
   },
   "file_extension": ".py",
   "mimetype": "text/x-python",
   "name": "python",
   "nbconvert_exporter": "python",
   "pygments_lexer": "ipython3",
   "version": "3.8.8"
  }
 },
 "nbformat": 4,
 "nbformat_minor": 5
}
