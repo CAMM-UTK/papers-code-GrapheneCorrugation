{
 "cells": [
  {
   "cell_type": "markdown",
   "id": "b2a699db-1dfd-476a-b37c-8976e927a7ce",
   "metadata": {},
   "source": [
    "## Download QMC Data\n",
    "\n",
    "The raw (unprocessed) QMC data can be found online at:\n",
    "\n",
    "[![DOI](https://zenodo.org/badge/DOI/10.5281/zenodo.10137837.svg)](https://doi.org/10.5281/zenodo.10137837)\n",
    "\n",
    "While the processed/reduced data files necessary for producing all plots are included in the repository at `../data` run the code below to download the data for local processing via the `pimcscripts` module.\n",
    "\n",
    "Requires installation of the [zenodo_get](https://github.com/dvolgyes/zenodo_get/) package."
   ]
  },
  {
   "cell_type": "code",
   "execution_count": 1,
   "id": "dbed29f1-24a9-4bbc-9f77-f9a8ce51937c",
   "metadata": {},
   "outputs": [
    {
     "name": "stdout",
     "output_type": "stream",
     "text": [
      "Title: QMC Raw Data for Graphene Corrugation Effects during Helium Adsorption\n",
      "Keywords: \n",
      "Publication date: 2023-11-15\n",
      "DOI: 10.5281/zenodo.10137837\n",
      "Total size: 3826.2 MB\n",
      "\n",
      "Link: https://zenodo.org/api/records/10137837/files/README.md/content   size: 0.0 MB\n",
      "100% [..............................................................] 564 / 564\n",
      "Checksum is correct. (3ccfb12d3cfeb1312d2f0567eaf0d539)\n",
      "\n",
      "Link: https://zenodo.org/api/records/10137837/files/qmc_data.tar.bz2/content   size: 3826.2 MB\n",
      "100% [................................................] 4012015412 / 4012015412832 / 4012015412\n",
      "Checksum is correct. (159a19f6727af1eec74f1cb232d8a1eb)\n",
      "All files have been downloaded.\n"
     ]
    }
   ],
   "source": [
    "!mkdir ../data/raw\n",
    "!zenodo_get --doi=10.5281/zenodo.10137837 --output-dir=\"../data/raw\"\n",
    "!tar -xjf ../data/raw/qmc_data.tar.bz2 -C \"../data/raw/\""
   ]
  },
  {
   "cell_type": "code",
   "execution_count": null,
   "id": "fe6ccabc-e881-4fba-a1ac-4e7aef8d0d90",
   "metadata": {},
   "outputs": [],
   "source": []
  }
 ],
 "metadata": {
  "kernelspec": {
   "display_name": "Python 3 (ipykernel)",
   "language": "python",
   "name": "python3"
  },
  "language_info": {
   "codemirror_mode": {
    "name": "ipython",
    "version": 3
   },
   "file_extension": ".py",
   "mimetype": "text/x-python",
   "name": "python",
   "nbconvert_exporter": "python",
   "pygments_lexer": "ipython3",
   "version": "3.8.8"
  }
 },
 "nbformat": 4,
 "nbformat_minor": 5
}
